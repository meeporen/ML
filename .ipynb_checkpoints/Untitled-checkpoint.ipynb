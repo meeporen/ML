{
 "cells": [
  {
   "cell_type": "code",
   "execution_count": 5,
   "id": "2acade6e-2057-408d-96d9-febdfea80e6b",
   "metadata": {
    "scrolled": true
   },
   "outputs": [],
   "source": [
    "import numpy\n",
    "import scipy.special \n",
    "import matplotlib.pyplot\n",
    "%matplotlib inline "
   ]
  },
  {
   "cell_type": "code",
   "execution_count": 6,
   "id": "2e9365ac-eac2-4649-96cf-794ca5a7b473",
   "metadata": {},
   "outputs": [],
   "source": [
    "class neuralNetwork:\n",
    "    #иницилизировать нейронную сеть \n",
    "    def __init__(self, inputnodes, hiddennodes, outputnodes, learningrate):\n",
    "        #задать кол-во узлов во входном, скрытом и выходном слое \n",
    "        self.inodes = inputnodes\n",
    "        self.hnodes = hiddennodes \n",
    "        self.onodes = outputnodes \n",
    "\n",
    "\n",
    "        #матрицы весовых коэффициентов  связей wih(между входныи и скрытым слоями) и who(между скрытым и выходным слоями)\n",
    "        self.wih = (numpy.random.rand(self.hnodes, self.inodes) - 0.5)\n",
    "        self.who = (numpy.random.rand(self.onodes, self.hnodes) - 0.5)\n",
    "        \n",
    "\n",
    "        #коэффицент обучения\n",
    "        self.lr = learningrate \n",
    "        \n",
    "        \n",
    "        #использование сигмоиды в качестве функции активации \n",
    "        self.activation_function = lambda x: scipy.special.expit(x)\n",
    "        \n",
    "    #тренировка нейронной сети \n",
    "    def train(self, inputs_list, targets_list):\n",
    "        #преобразовать список входных значений в двухмерный массив \n",
    "        inputs = numpy.array(inputs_list, ndmin=2).T\n",
    "        targets = numpy.array(targets_list, ndmin=2).T\n",
    "        \n",
    "        #рассчитать входящие сигналы для скрытого слоя \n",
    "        hidden_inputs = numpy.dot(self.wih, inputs)\n",
    "        #рассчитать исходящие сигналы для скрытого слоя \n",
    "        hidden_outputs = numpy.activation_function(hidden_inputs)\n",
    "\n",
    "        #рассчитать входящие сигналы для выходного слоя \n",
    "        final_inputs = numpy.dot(self.wih, hidden_outputs)\n",
    "        #рассчитать исходящие сигналы для выходного слоя \n",
    "        final_outputs = self.activation_function(final_inputs)\n",
    "\n",
    "\n",
    "        #ошибка = целевое знач - факт знач\n",
    "        output_errors = targets - final_outputs\n",
    "\n",
    "        hidden_errors = numpy.dot(self.who.T, output_errors)\n",
    "\n",
    "        #обновить весовые коэффициенты для связей между скрытым и выходным слоями\n",
    "        self.who += self.lr * numpy.dot((output_errors * hidden_outputs * (1.0 - final_outputs)), numpy.transpose(hidden_outputs))\n",
    "        #обновить весовые коэффициенты для связей между входным и скрытым слоями\n",
    "        self.wih += self.lr * numpy.dot((hidden_errors * hidden_outputs * (1.0 - hidden_outputs)), numpy.transpose(inputs))\n",
    "\n",
    "        pass \n",
    "    #опрос нейронной сети \n",
    "    def query(self, inputs_list):\n",
    "\n",
    "        #преобразовать список входных значений в двумерный массив\n",
    "        inputs = numpy.array(inputs_list, ndmin=2).T\n",
    "\n",
    "        #рассчитать входящие сигналы для скрытого слоя\n",
    "        hidden_inputs = numpy.dot(self.wih, inputs)\n",
    "        #рассчитываем исходящие сигналы для скрытого слоя \n",
    "        hidden_outputs = self.activation_function(hidden_inputs)\n",
    "\n",
    "        #рассчитать входящие сигналы для выходного слоя\n",
    "        final_inputs = numpy.dot(self.who, hidden_outputs)\n",
    "        #рассчитываем исходящие сигналы для выходного слоя \n",
    "        final_outputs = self.activation_function(final_inputs)\n",
    "\n",
    "\n",
    "        return final_outputs\n",
    "\n",
    "        \n",
    "    def train(self, inputs_list, targets_list):\n",
    "        inputs = numpy.array(inputs_list, ndmin=2).T\n",
    "        targets = numpy.array(targets_list, ndmin=2).T\n",
    "        hidden_inputs = numpy.dot(self.wih, inputs)\n",
    "        hidden_outputs = self.activation_function(hidden_inputs)\n",
    "        final_inputs = numpy.dot(self.who, hidden_outputs)\n",
    "        final_outputs = self.activation_function(final_inputs)\n",
    "        output_errors = targets - final_outputs\n",
    "        hidden_errors = numpy.dot(self.who.T, output_errors)\n",
    "        self.who += self.lr * numpy.dot((output_errors * final_outputs * (1.0 - final_outputs)), numpy.transpose(hidden_outputs))\n",
    "        self.wih += self.lr * numpy.dot((hidden_errors * hidden_outputs * (1.0 - hidden_outputs)), numpy.transpose(inputs))\n",
    "        \n",
    "    def query(self, inputs_list):\n",
    "        inputs = numpy.array(inputs_list, ndmin=2).T\n",
    "        hidden_inputs = numpy.dot(self.wih, inputs)\n",
    "        hidden_outputs = self.activation_function(hidden_inputs)\n",
    "        final_inputs = numpy.dot(self.who, hidden_outputs)\n",
    "        final_outputs = self.activation_function(final_inputs)\n",
    "        return final_outputs"
   ]
  },
  {
   "cell_type": "code",
   "execution_count": 7,
   "id": "a836d257-0722-4c9a-9cfa-a6094a12de29",
   "metadata": {},
   "outputs": [],
   "source": [
    "#кол-во входных, скрытых и выходных узлов \n",
    "input_nodes = 784\n",
    "hidden_nodes = 100 \n",
    "output_nodes = 10\n",
    "\n",
    "#коэффицент обучения  \n",
    "learning_rate = 0.3\n",
    "\n",
    "n = neuralNetwork(input_nodes, hidden_nodes, output_nodes, learning_rate)\n",
    "\n",
    "#загрузить в список тестовый набор данных CSV-файла набора MNIST\n",
    "traning_data_file = open(\"mnist_dataset/mnist_train_100.csv\", 'r')\n",
    "traning_data_list = traning_data_file.readlines()\n",
    "traning_data_file.close\n",
    "\n",
    "#тренировка нейронной сети \n",
    "\n",
    "#перебрать все записи в тренировочном наборе данных \n",
    "for record in traning_data_list:\n",
    "    all_values = record.split(',')\n",
    "    inputs = (numpy.asfarray(all_values[1:]) / 255.0 * 0.99) + 0.01\n",
    "    targets = numpy.zeros(output_nodes) + 0.01\n",
    "\n",
    "    targets[int(all_values[0])] = 0.99\n",
    "    n.train(inputs, targets)\n",
    "    pass"
   ]
  },
  {
   "cell_type": "code",
   "execution_count": 9,
   "id": "6fabc640-5924-4f06-be63-acfb15bb7ba6",
   "metadata": {},
   "outputs": [
    {
     "name": "stdout",
     "output_type": "stream",
     "text": [
      "0\n"
     ]
    },
    {
     "data": {
      "text/plain": [
       "<matplotlib.image.AxesImage at 0x128f0935880>"
      ]
     },
     "execution_count": 9,
     "metadata": {},
     "output_type": "execute_result"
    },
    {
     "data": {
      "image/png": "[encoded data removed]",
      "text/plain": [
       "<Figure size 640x480 with 1 Axes>"
      ]
     },
     "metadata": {},
     "output_type": "display_data"
    }
   ],
   "source": [
    "test_data_file = open(\"mnist_dataset/mnist_test_10.csv\", 'r')\n",
    "test_data_list = test_data_file.readlines()\n",
    "test_data_file.close\n",
    "\n",
    "all_values = test_data_list[3].split(',')\n",
    "print(all_values[0])\n",
    "\n",
    "n.query((numpy.asfarray(all_values[1:]) / 255.0 * 0.99) + 0.01)\n",
    "\n",
    "image_array = numpy.asfarray(all_values[1:]).reshape((28,28))\n",
    "matplotlib.pyplot.imshow(image_array, cmap='Greys', interpolation='None')"
   ]
  },
  {
   "cell_type": "code",
   "execution_count": null,
   "id": "a670c5ef-7bb1-4af4-8919-53f95abbb1db",
   "metadata": {},
   "outputs": [],
   "source": []
  }
 ],
 "metadata": {
  "kernelspec": {
   "display_name": "Python 3 (ipykernel)",
   "language": "python",
   "name": "python3"
  },
  "language_info": {
   "codemirror_mode": {
    "name": "ipython",
    "version": 3
   },
   "file_extension": ".py",
   "mimetype": "text/x-python",
   "name": "python",
   "nbconvert_exporter": "python",
   "pygments_lexer": "ipython3",
   "version": "3.12.2"
  }
 },
 "nbformat": 4,
 "nbformat_minor": 5
}
