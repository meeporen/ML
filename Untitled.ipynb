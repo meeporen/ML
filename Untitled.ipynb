{
 "cells": [
  {
   "cell_type": "code",
   "execution_count": 4,
   "id": "2acade6e-2057-408d-96d9-febdfea80e6b",
   "metadata": {},
   "outputs": [],
   "source": [
    "import numpy\n",
    "import scipy.special "
   ]
  },
  {
   "cell_type": "code",
   "execution_count": 10,
   "id": "2e9365ac-eac2-4649-96cf-794ca5a7b473",
   "metadata": {},
   "outputs": [],
   "source": [
    "class neuralNetwork:\n",
    "    #иницилизировать нейронную сеть \n",
    "    def __init__(self, inputnodes, hiddennodes, outputnodes, learningrate):\n",
    "        #задать кол-во узлов во входном, скрытом и выходном слое \n",
    "        self.inodes = inputnodes\n",
    "        self.hnodes = hiddennodes \n",
    "        self.onodes = outputnodes \n",
    "\n",
    "\n",
    "        #матрицы весовых коэффициентов  связей wih(между входныи и скрытым слоями) и who(между скрытым и выходным слоями)\n",
    "        self.wih = (numpy.random.rand(self.hnodes, self.inodes) - 0.5)\n",
    "        self.who = (numpy.random.rand(self.onodes, self.hnodes) - 0.5)\n",
    "        \n",
    "\n",
    "        #коэффицент обучения\n",
    "        self.lr = learningrate \n",
    "        \n",
    "        \n",
    "        #использование сигмоиды в качестве функции активации \n",
    "        self.activation_function = lambda x: scipy.special.expit(x)\n",
    "        \n",
    "    #тренировка нейронной сети \n",
    "    def train():\n",
    "        pass\n",
    "    #опрос нейронной сети \n",
    "    def query(self, inputs_list):\n",
    "\n",
    "        #преобразовать список входных значений в двумерный массив\n",
    "        inputs = numpy.array(inputs_list, ndmin=2).T\n",
    "\n",
    "        #рассчитать входящие сигналы для скрытого слоя\n",
    "        hidden_inputs = numpy.dot(self.wih, inputs)\n",
    "        #рассчитываем исходящие сигналы для скрытого слоя \n",
    "        hidden_outputs = self.activation_function(hidden_inputs)\n",
    "\n",
    "        #рассчитать входящие сигналы для выходного слоя\n",
    "        final_inputs = numpy.dot(self.wih, hidden_outputs)\n",
    "        #рассчитываем исходящие сигналы для выходного слоя \n",
    "        final_outputs = self.activation_function(final_inputs)\n",
    "\n",
    "\n",
    "        return final_outputs\n",
    "\n"
   ]
  },
  {
   "cell_type": "code",
   "execution_count": 11,
   "id": "99575ebe-08d7-4628-b0a8-8396ec1649fb",
   "metadata": {},
   "outputs": [
    {
     "data": {
      "text/plain": [
       "array([[0.58508458],\n",
       "       [0.45649013],\n",
       "       [0.47795247]])"
      ]
     },
     "execution_count": 11,
     "metadata": {},
     "output_type": "execute_result"
    }
   ],
   "source": [
    "#кол-во входных, скрытых и выходных узлов \n",
    "input_nodes = 3 \n",
    "hidden_nodes = 3 \n",
    "output_nodes = 3 \n",
    "\n",
    "#коэффицент обучения  \n",
    "learning_rate = 0.3\n",
    "\n",
    "n = neuralNetwork(input_nodes, hidden_nodes, output_nodes, learning_rate)\n",
    "n.query([1.0, 0.5, -1.5])"
   ]
  }
 ],
 "metadata": {
  "kernelspec": {
   "display_name": "Python 3 (ipykernel)",
   "language": "python",
   "name": "python3"
  },
  "language_info": {
   "codemirror_mode": {
    "name": "ipython",
    "version": 3
   },
   "file_extension": ".py",
   "mimetype": "text/x-python",
   "name": "python",
   "nbconvert_exporter": "python",
   "pygments_lexer": "ipython3",
   "version": "3.11.7"
  }
 },
 "nbformat": 4,
 "nbformat_minor": 5
}
